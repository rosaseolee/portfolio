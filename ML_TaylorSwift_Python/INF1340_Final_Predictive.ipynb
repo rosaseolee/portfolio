{
  "cells": [
    {
      "cell_type": "code",
      "execution_count": null,
      "metadata": {
        "colab": {
          "base_uri": "https://localhost:8080/"
        },
        "id": "YLJCfSAVLjmO",
        "outputId": "7136e948-df5c-47a9-db12-40ce2f1bfc8d"
      },
      "outputs": [
        {
          "output_type": "stream",
          "name": "stdout",
          "text": [
            "Mounted at /drive\n"
          ]
        }
      ],
      "source": [
        "# Names: Danika Mariam (1004014880), Chloe Li(1010033321), Rosa Lee (1005089761)\n",
        "# Class: INF1340 LEC0101\n",
        "# Final Project\n",
        "# Date: Dec 9, 2023\n",
        "\n",
        "\n",
        "# PREDICTIVE ANALYTICS\n",
        "\n",
        "# import the drive\n",
        "from google.colab import drive, files\n",
        "drive.mount(\"/drive\", force_remount=True)\n",
        "\n",
        "# import packages\n",
        "import pandas as pd\n",
        "import matplotlib.pyplot as plt\n",
        "import seaborn as sns\n",
        "import numpy as np\n",
        "from matplotlib.backends.backend_pdf import PdfPages\n",
        "\n",
        "from sklearn.model_selection import train_test_split, learning_curve, KFold\n",
        "from sklearn.linear_model import LinearRegression, LogisticRegression\n",
        "from sklearn.metrics import mean_squared_error, r2_score, make_scorer, confusion_matrix, accuracy_score\n",
        "from sklearn.preprocessing import StandardScaler\n",
        "\n",
        "songs = pd.read_csv('/drive/MyDrive/taylor_swift_spotify.csv')\n",
        "output_file = open(\"output_predictive.txt\", \"w\")\n",
        "output_plots = PdfPages(\"plots_predictive.pdf\")"
      ]
    },
    {
      "cell_type": "code",
      "execution_count": null,
      "metadata": {
        "id": "cKAbqee3Hp-b"
      },
      "outputs": [],
      "source": [
        "# Linear Regression\n",
        "\n",
        "def lin_regression():\n",
        "  # Selecting features and target variable\n",
        "  features = songs[['acousticness', 'danceability', 'energy', 'instrumentalness',\n",
        "                  'liveness', 'loudness', 'speechiness', 'tempo', 'valence', 'duration_ms']]\n",
        "  target = songs['popularity']\n",
        "\n",
        "  # Scaling features\n",
        "  scaler = StandardScaler()\n",
        "  features_scaled = scaler.fit_transform(features)\n",
        "\n",
        "  # Splitting the dataset into training and testing sets\n",
        "  X_train, X_test, y_train, y_test = train_test_split(features_scaled, target, test_size=0.2, random_state=42)\n",
        "\n",
        "  # Creating and training the linear regression model\n",
        "  model = LinearRegression()\n",
        "  model.fit(X_train, y_train)\n",
        "\n",
        "  # Making predictions on the test set\n",
        "  predictions = model.predict(X_test)\n",
        "  mse = mean_squared_error(y_test, predictions)\n",
        "  r2 = r2_score(y_test, predictions)\n",
        "\n",
        "  # calculating line of best fit\n",
        "  a, b = np.polyfit(y_test, predictions, 1)\n",
        "  plt.plot(y_test, a*y_test + b, color='red', label='Best Fit Line')\n",
        "\n",
        "  # Plotting the observed vs predicted values for visual comparison\n",
        "  plt.scatter(y_test, predictions)\n",
        "  plt.xlabel('Observed')\n",
        "  plt.ylabel('Predicted')\n",
        "  plt.title('Observed vs Predicted Popularity')\n",
        "  plt.savefig(output_plots, format='pdf')\n",
        "  plt.show()\n",
        "\n",
        "  print('Mean Squared Error:', mse)\n",
        "  print('R^2 Score:', r2)\n",
        "  output_file.write('Mean Squared Error:'+ str(mse) + \"\\n\")\n",
        "  output_file.write('R^2 Score:'+ str(r2) + \"\\n\")"
      ]
    },
    {
      "cell_type": "code",
      "execution_count": null,
      "metadata": {
        "id": "hDKhxn4LEjhz"
      },
      "outputs": [],
      "source": [
        "# Logistic Regression\n",
        "\n",
        "def log_regression():\n",
        "  global features\n",
        "  features = songs[['acousticness', 'danceability', 'energy', 'instrumentalness',\n",
        "                  'liveness', 'loudness', 'speechiness', 'tempo', 'valence', 'duration_ms']]\n",
        "  target = songs['popularity']\n",
        "  target = (target > target.median()).astype(int)\n",
        "\n",
        "  scaler = StandardScaler()\n",
        "  kfold = KFold(n_splits=10, random_state=42, shuffle=True)\n",
        "\n",
        "  # Initialize the best model and parameters\n",
        "  global model\n",
        "  best_model = None\n",
        "  best_params = {}\n",
        "  best_accuracy = 0\n",
        "  best_std = 0\n",
        "\n",
        "  global X_train, X_test, y_train, y_test\n",
        "  X_train, X_test, y_train, y_test = train_test_split(features, target, test_size=0.3, random_state=42)\n",
        "  global X_train_scaled, X_test_scaled\n",
        "  X_train_scaled = scaler.fit_transform(X_train)\n",
        "  X_test_scaled = scaler.transform(X_test)\n",
        "\n",
        "\n",
        "\n",
        "  for C in [0.001, 0.01, 0.05, 0.1, 0.5, 1, 5, 10, 100]:\n",
        "      for solver in ['newton-cg', 'lbfgs', 'liblinear', 'sag']:\n",
        "          # Set up the model with the current set of parameters\n",
        "          model = LogisticRegression(C=C, solver=solver, max_iter=10000)\n",
        "\n",
        "          # List to store accuracy for each fold\n",
        "          accuracy = []\n",
        "\n",
        "          # Perform K-Fold cross-validation\n",
        "          for train_idx, test_idx in kfold.split(features):\n",
        "              # Split the data\n",
        "              X_train, X_test = features.values[train_idx], features.values[test_idx]\n",
        "              y_train, y_test = target.values[train_idx], target.values[test_idx]\n",
        "\n",
        "              # Scale the features\n",
        "              X_train = scaler.fit_transform(X_train)\n",
        "              X_test = scaler.transform(X_test)\n",
        "\n",
        "              # Train the model\n",
        "              model.fit(X_train, y_train)\n",
        "\n",
        "              # Calculate accuracy\n",
        "              score = model.score(X_test, y_test)\n",
        "              accuracy.append(score)\n",
        "\n",
        "          # Calculate the average accuracy and standard deviation\n",
        "          avg_accuracy = np.mean(accuracy)\n",
        "          std_accuracy = np.std(accuracy)\n",
        "\n",
        "          # Update the best model if the current model is better\n",
        "          if avg_accuracy > best_accuracy:\n",
        "              best_model = model\n",
        "              best_params = {'C': C, 'solver': solver}\n",
        "              best_accuracy = avg_accuracy\n",
        "              best_std = std_accuracy\n",
        "\n",
        "  print(\"Best Model Parameters:\", best_params)\n",
        "  print(\"Best Cross-Validation Accuracy: \"+ str(round(best_accuracy,2) * 100) + \"%\")\n",
        "  print(\"Standard Deviation of CV Accuracy: \"+ str(round(best_std,2) * 100)+ \"%\")\n",
        "\n",
        "def coeff():\n",
        "  coefficients = model.coef_[0]\n",
        "  # Get feature names\n",
        "  feature_names = features.columns\n",
        "\n",
        "  # Create a DataFrame to display coefficients and feature importance\n",
        "  coefficients_df = pd.DataFrame({'Feature': feature_names, 'Coefficient': coefficients})\n",
        "\n",
        "  # print coefficients\n",
        "  print(\"Coefficients:\")\n",
        "  output_file.write(\"\\n Coefficients: \\n\")\n",
        "  print(coefficients_df)\n",
        "  output_file.write(str(coefficients_df))\n",
        "\n",
        "  # print 'feature_importance'\n",
        "  print(\"\\nFeature Importance:\")\n",
        "  output_file.write(\"\\n Feature Importance: \\n\")\n",
        "  print(coefficients_df[['Feature', 'Coefficient']].sort_values(by='Coefficient', key=abs, ascending=False))\n",
        "  output_file.write(str(coefficients_df[['Feature', 'Coefficient']].sort_values(by='Coefficient', key=abs, ascending=False)))"
      ]
    },
    {
      "cell_type": "code",
      "execution_count": null,
      "metadata": {
        "id": "0bXRJbeQUWvL"
      },
      "outputs": [],
      "source": [
        "# Plot\n",
        "def log_plot():\n",
        "  y_probs = model.predict_proba(X_test)[:, 1]  # Probability of the positive class\n",
        "\n",
        "  # Plotting the predicted probabilities against the actual values\n",
        "  plt.figure(figsize=(10, 6))\n",
        "  plt.scatter(range(len(y_test)), y_probs, c='r', label='Actual')\n",
        "  plt.scatter(range(len(y_test)), y_test, alpha=0.5, edgecolor='k', label='Predicted')\n",
        "  plt.title('Predicted Probabilities and Actual Values')\n",
        "  plt.xlabel('Samples')\n",
        "  plt.ylabel('Probability')\n",
        "  plt.legend()\n",
        "  plt.savefig(output_plots, format='pdf')\n",
        "  plt.show()"
      ]
    },
    {
      "cell_type": "code",
      "execution_count": null,
      "metadata": {
        "colab": {
          "base_uri": "https://localhost:8080/",
          "height": 1000
        },
        "id": "mT4HtluVh1lE",
        "outputId": "9cc2a998-cd00-4041-a8bc-23d1fa771785"
      },
      "outputs": [
        {
          "output_type": "display_data",
          "data": {
            "text/plain": [
              "<Figure size 640x480 with 1 Axes>"
            ],
            "image/png": "[encoded data removed]"
          },
          "metadata": {}
        },
        {
          "output_type": "stream",
          "name": "stdout",
          "text": [
            "Mean Squared Error: 244.12007320828295\n",
            "R^2 Score: -0.035057783355679106\n",
            "Best Model Parameters: {'C': 0.05, 'solver': 'liblinear'}\n",
            "Best Cross-Validation Accuracy: 57.99999999999999%\n",
            "Standard Deviation of CV Accuracy: 7.000000000000001%\n",
            "Coefficients:\n",
            "            Feature  Coefficient\n",
            "0      acousticness    -0.262386\n",
            "1      danceability     0.139565\n",
            "2            energy     0.352111\n",
            "3  instrumentalness    -0.071598\n",
            "4          liveness    -0.482586\n",
            "5          loudness    -0.666927\n",
            "6       speechiness     0.083554\n",
            "7             tempo    -0.061953\n",
            "8           valence    -0.211628\n",
            "9       duration_ms    -0.185918\n",
            "\n",
            "Feature Importance:\n",
            "            Feature  Coefficient\n",
            "5          loudness    -0.666927\n",
            "4          liveness    -0.482586\n",
            "2            energy     0.352111\n",
            "0      acousticness    -0.262386\n",
            "8           valence    -0.211628\n",
            "9       duration_ms    -0.185918\n",
            "1      danceability     0.139565\n",
            "6       speechiness     0.083554\n",
            "3  instrumentalness    -0.071598\n",
            "7             tempo    -0.061953\n"
          ]
        },
        {
          "output_type": "display_data",
          "data": {
            "text/plain": [
              "<Figure size 1000x600 with 1 Axes>"
            ],
            "image/png": "[encoded data removed]"
          },
          "metadata": {}
        },
        {
          "output_type": "display_data",
          "data": {
            "text/plain": [
              "<IPython.core.display.Javascript object>"
            ],
            "application/javascript": [
              "\n",
              "    async function download(id, filename, size) {\n",
              "      if (!google.colab.kernel.accessAllowed) {\n",
              "        return;\n",
              "      }\n",
              "      const div = document.createElement('div');\n",
              "      const label = document.createElement('label');\n",
              "      label.textContent = `Downloading \"${filename}\": `;\n",
              "      div.appendChild(label);\n",
              "      const progress = document.createElement('progress');\n",
              "      progress.max = size;\n",
              "      div.appendChild(progress);\n",
              "      document.body.appendChild(div);\n",
              "\n",
              "      const buffers = [];\n",
              "      let downloaded = 0;\n",
              "\n",
              "      const channel = await google.colab.kernel.comms.open(id);\n",
              "      // Send a message to notify the kernel that we're ready.\n",
              "      channel.send({})\n",
              "\n",
              "      for await (const message of channel.messages) {\n",
              "        // Send a message to notify the kernel that we're ready.\n",
              "        channel.send({})\n",
              "        if (message.buffers) {\n",
              "          for (const buffer of message.buffers) {\n",
              "            buffers.push(buffer);\n",
              "            downloaded += buffer.byteLength;\n",
              "            progress.value = downloaded;\n",
              "          }\n",
              "        }\n",
              "      }\n",
              "      const blob = new Blob(buffers, {type: 'application/binary'});\n",
              "      const a = document.createElement('a');\n",
              "      a.href = window.URL.createObjectURL(blob);\n",
              "      a.download = filename;\n",
              "      div.appendChild(a);\n",
              "      a.click();\n",
              "      div.remove();\n",
              "    }\n",
              "  "
            ]
          },
          "metadata": {}
        },
        {
          "output_type": "display_data",
          "data": {
            "text/plain": [
              "<IPython.core.display.Javascript object>"
            ],
            "application/javascript": [
              "download(\"download_8f4682dd-546c-4077-82ff-81a1aec0b5bc\", \"output_predictive.txt\", 834)"
            ]
          },
          "metadata": {}
        },
        {
          "output_type": "display_data",
          "data": {
            "text/plain": [
              "<IPython.core.display.Javascript object>"
            ],
            "application/javascript": [
              "\n",
              "    async function download(id, filename, size) {\n",
              "      if (!google.colab.kernel.accessAllowed) {\n",
              "        return;\n",
              "      }\n",
              "      const div = document.createElement('div');\n",
              "      const label = document.createElement('label');\n",
              "      label.textContent = `Downloading \"${filename}\": `;\n",
              "      div.appendChild(label);\n",
              "      const progress = document.createElement('progress');\n",
              "      progress.max = size;\n",
              "      div.appendChild(progress);\n",
              "      document.body.appendChild(div);\n",
              "\n",
              "      const buffers = [];\n",
              "      let downloaded = 0;\n",
              "\n",
              "      const channel = await google.colab.kernel.comms.open(id);\n",
              "      // Send a message to notify the kernel that we're ready.\n",
              "      channel.send({})\n",
              "\n",
              "      for await (const message of channel.messages) {\n",
              "        // Send a message to notify the kernel that we're ready.\n",
              "        channel.send({})\n",
              "        if (message.buffers) {\n",
              "          for (const buffer of message.buffers) {\n",
              "            buffers.push(buffer);\n",
              "            downloaded += buffer.byteLength;\n",
              "            progress.value = downloaded;\n",
              "          }\n",
              "        }\n",
              "      }\n",
              "      const blob = new Blob(buffers, {type: 'application/binary'});\n",
              "      const a = document.createElement('a');\n",
              "      a.href = window.URL.createObjectURL(blob);\n",
              "      a.download = filename;\n",
              "      div.appendChild(a);\n",
              "      a.click();\n",
              "      div.remove();\n",
              "    }\n",
              "  "
            ]
          },
          "metadata": {}
        },
        {
          "output_type": "display_data",
          "data": {
            "text/plain": [
              "<IPython.core.display.Javascript object>"
            ],
            "application/javascript": [
              "download(\"download_564518dc-f240-45cc-b1fa-916fb6fe57a2\", \"plots_predictive.pdf\", 19113)"
            ]
          },
          "metadata": {}
        }
      ],
      "source": [
        "def main():\n",
        "  lin_regression()\n",
        "  log_regression()\n",
        "  coeff()\n",
        "  log_plot()\n",
        "  output_file.close()\n",
        "  output_plots.close()\n",
        "\n",
        "main()\n",
        "files.download('output_predictive.txt')\n",
        "files.download('plots_predictive.pdf')"
      ]
    }
  ],
  "metadata": {
    "colab": {
      "provenance": []
    },
    "kernelspec": {
      "display_name": "Python 3",
      "name": "python3"
    },
    "language_info": {
      "name": "python"
    }
  },
  "nbformat": 4,
  "nbformat_minor": 0
}